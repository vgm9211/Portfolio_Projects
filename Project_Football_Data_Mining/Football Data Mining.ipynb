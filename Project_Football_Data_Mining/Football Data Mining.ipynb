{
 "cells": [
  {
   "cell_type": "markdown",
   "metadata": {},
   "source": [
    "# Football Data Mining: Predicting Results of La Liga"
   ]
  },
  {
   "cell_type": "markdown",
   "metadata": {},
   "source": [
    "This Project is about predicting football results with indicators calculated with past results and statistics of La Liga Santander and La Liga Smartbank.\n",
    "I did it based on this project from Univerity of Manitoba, Canada:(https://www.sciencedirect.com/science/article/pii/S1877050914011181)\n",
    "I got the football data on this website:\n",
    "(http://www.football-data.co.uk/data.php)"
   ]
  },
  {
   "cell_type": "markdown",
   "metadata": {},
   "source": [
    "Let's start importing the libraries:"
   ]
  },
  {
   "cell_type": "code",
   "execution_count": 1,
   "metadata": {},
   "outputs": [],
   "source": [
    "import numpy as np\n",
    "import pandas as pd\n",
    "\n",
    "import seaborn as sns\n",
    "\n",
    "from sklearn.preprocessing import StandardScaler\n",
    "from sklearn.decomposition import PCA\n",
    "\n",
    "import warnings\n",
    "warnings.filterwarnings('ignore')"
   ]
  },
  {
   "cell_type": "code",
   "execution_count": 2,
   "metadata": {},
   "outputs": [],
   "source": [
    "#Data from La Liga Santander\n",
    "df_liga1 = pd.read_csv('DatosLaLiga.csv')\n",
    "#Data from La Liga SmartBank\n",
    "df_liga2= pd.read_csv('DatosSegunda.csv')"
   ]
  },
  {
   "cell_type": "code",
   "execution_count": 3,
   "metadata": {},
   "outputs": [],
   "source": [
    "#Let's take the fields that we need from both Data frames\n",
    "df1=df_liga1[['Div', 'Date', 'HomeTeam', 'AwayTeam', 'FTHG', 'FTAG', 'FTR', 'HTHG',\n",
    "       'HTAG', 'HTR', 'HS', 'AS', 'HST', 'AST', 'HF', 'AF', 'HC', 'AC', 'HY',\n",
    "       'AY', 'HR', 'AR']]\n",
    "df2=df_liga2[['Div', 'Date', 'HomeTeam', 'AwayTeam', 'FTHG', 'FTAG', 'FTR', 'HTHG',\n",
    "       'HTAG', 'HTR', 'HS', 'AS', 'HST', 'AST', 'HF', 'AF', 'HC', 'AC', 'HY',\n",
    "       'AY', 'HR', 'AR']]"
   ]
  },
  {
   "cell_type": "markdown",
   "metadata": {},
   "source": [
    "Explanation about every field, if necessary:\n",
    "&nbsp;\n",
    "\n",
    "-Div: Division &nbsp;\n",
    "\n",
    "-Date &nbsp;\n",
    "\n",
    "-Home Team &nbsp;\n",
    "\n",
    "-Away Team &nbsp;\n",
    "\n",
    "-FTHG: Final Time Home Team Goals &nbsp;\n",
    "\n",
    "-FTAG: Final Time Away Team Goals &nbsp;\n",
    "\n",
    "-FTR: Final Time Result &nbsp;\n",
    "\n",
    "-HTHG: Half Time Home Team Goals &nbsp;\n",
    "\n",
    "-HTAG: Half Time Away Team Goals &nbsp;\n",
    "\n",
    "-HTR: Half Time Result &nbsp;\n",
    "\n",
    "-HS: Home Team Shots &nbsp;\n",
    "\n",
    "-As: Away Team Shots &nbsp;\n",
    "\n",
    "-HST: Home Team Shots on Target &nbsp;\n",
    "\n",
    "-AST: Away Team Shots on Target &nbsp;\n",
    "\n",
    "-HF: Home Team Fouls &nbsp;\n",
    "\n",
    "-AF: Away Team Fouls &nbsp;\n",
    "\n",
    "-HC: Home Team Corners &nbsp;\n",
    "\n",
    "-AC: Away Team Corners &nbsp;\n",
    "\n",
    "-HY: Home Team Yellows &nbsp;\n",
    "\n",
    "-AY: Away Team Yellows &nbsp;\n",
    "\n",
    "-HR: Home Team Reds &nbsp;\n",
    "\n",
    "-AR: Away Team Reds &nbsp;"
   ]
  },
  {
   "cell_type": "code",
   "execution_count": 4,
   "metadata": {},
   "outputs": [
    {
     "data": {
      "text/html": [
       "<div>\n",
       "<style scoped>\n",
       "    .dataframe tbody tr th:only-of-type {\n",
       "        vertical-align: middle;\n",
       "    }\n",
       "\n",
       "    .dataframe tbody tr th {\n",
       "        vertical-align: top;\n",
       "    }\n",
       "\n",
       "    .dataframe thead th {\n",
       "        text-align: right;\n",
       "    }\n",
       "</style>\n",
       "<table border=\"1\" class=\"dataframe\">\n",
       "  <thead>\n",
       "    <tr style=\"text-align: right;\">\n",
       "      <th></th>\n",
       "      <th>FTHG</th>\n",
       "      <th>FTAG</th>\n",
       "      <th>HTHG</th>\n",
       "      <th>HTAG</th>\n",
       "      <th>HS</th>\n",
       "      <th>AS</th>\n",
       "      <th>HST</th>\n",
       "      <th>AST</th>\n",
       "      <th>HF</th>\n",
       "      <th>AF</th>\n",
       "      <th>HC</th>\n",
       "      <th>AC</th>\n",
       "      <th>HY</th>\n",
       "      <th>AY</th>\n",
       "      <th>HR</th>\n",
       "      <th>AR</th>\n",
       "    </tr>\n",
       "  </thead>\n",
       "  <tbody>\n",
       "    <tr>\n",
       "      <th>count</th>\n",
       "      <td>319.000000</td>\n",
       "      <td>319.000000</td>\n",
       "      <td>319.000000</td>\n",
       "      <td>319.000000</td>\n",
       "      <td>319.000000</td>\n",
       "      <td>319.000000</td>\n",
       "      <td>319.000000</td>\n",
       "      <td>319.000000</td>\n",
       "      <td>319.000000</td>\n",
       "      <td>319.000000</td>\n",
       "      <td>319.000000</td>\n",
       "      <td>319.000000</td>\n",
       "      <td>319.000000</td>\n",
       "      <td>319.000000</td>\n",
       "      <td>319.000000</td>\n",
       "      <td>319.000000</td>\n",
       "    </tr>\n",
       "    <tr>\n",
       "      <th>mean</th>\n",
       "      <td>1.479624</td>\n",
       "      <td>1.018809</td>\n",
       "      <td>0.620690</td>\n",
       "      <td>0.432602</td>\n",
       "      <td>12.717868</td>\n",
       "      <td>10.000000</td>\n",
       "      <td>4.438871</td>\n",
       "      <td>3.416928</td>\n",
       "      <td>13.689655</td>\n",
       "      <td>13.915361</td>\n",
       "      <td>5.225705</td>\n",
       "      <td>4.178683</td>\n",
       "      <td>2.554859</td>\n",
       "      <td>2.695925</td>\n",
       "      <td>0.081505</td>\n",
       "      <td>0.134796</td>\n",
       "    </tr>\n",
       "    <tr>\n",
       "      <th>std</th>\n",
       "      <td>1.210044</td>\n",
       "      <td>1.002963</td>\n",
       "      <td>0.852491</td>\n",
       "      <td>0.640118</td>\n",
       "      <td>4.798653</td>\n",
       "      <td>4.095557</td>\n",
       "      <td>2.516960</td>\n",
       "      <td>1.929210</td>\n",
       "      <td>4.162681</td>\n",
       "      <td>3.981370</td>\n",
       "      <td>2.693896</td>\n",
       "      <td>2.303139</td>\n",
       "      <td>1.538592</td>\n",
       "      <td>1.472499</td>\n",
       "      <td>0.306537</td>\n",
       "      <td>0.351116</td>\n",
       "    </tr>\n",
       "    <tr>\n",
       "      <th>min</th>\n",
       "      <td>0.000000</td>\n",
       "      <td>0.000000</td>\n",
       "      <td>0.000000</td>\n",
       "      <td>0.000000</td>\n",
       "      <td>3.000000</td>\n",
       "      <td>1.000000</td>\n",
       "      <td>0.000000</td>\n",
       "      <td>0.000000</td>\n",
       "      <td>4.000000</td>\n",
       "      <td>5.000000</td>\n",
       "      <td>0.000000</td>\n",
       "      <td>0.000000</td>\n",
       "      <td>0.000000</td>\n",
       "      <td>0.000000</td>\n",
       "      <td>0.000000</td>\n",
       "      <td>0.000000</td>\n",
       "    </tr>\n",
       "    <tr>\n",
       "      <th>25%</th>\n",
       "      <td>1.000000</td>\n",
       "      <td>0.000000</td>\n",
       "      <td>0.000000</td>\n",
       "      <td>0.000000</td>\n",
       "      <td>9.000000</td>\n",
       "      <td>7.000000</td>\n",
       "      <td>3.000000</td>\n",
       "      <td>2.000000</td>\n",
       "      <td>11.000000</td>\n",
       "      <td>11.000000</td>\n",
       "      <td>3.000000</td>\n",
       "      <td>3.000000</td>\n",
       "      <td>1.000000</td>\n",
       "      <td>2.000000</td>\n",
       "      <td>0.000000</td>\n",
       "      <td>0.000000</td>\n",
       "    </tr>\n",
       "    <tr>\n",
       "      <th>50%</th>\n",
       "      <td>1.000000</td>\n",
       "      <td>1.000000</td>\n",
       "      <td>0.000000</td>\n",
       "      <td>0.000000</td>\n",
       "      <td>13.000000</td>\n",
       "      <td>10.000000</td>\n",
       "      <td>4.000000</td>\n",
       "      <td>3.000000</td>\n",
       "      <td>13.000000</td>\n",
       "      <td>14.000000</td>\n",
       "      <td>5.000000</td>\n",
       "      <td>4.000000</td>\n",
       "      <td>2.000000</td>\n",
       "      <td>3.000000</td>\n",
       "      <td>0.000000</td>\n",
       "      <td>0.000000</td>\n",
       "    </tr>\n",
       "    <tr>\n",
       "      <th>75%</th>\n",
       "      <td>2.000000</td>\n",
       "      <td>2.000000</td>\n",
       "      <td>1.000000</td>\n",
       "      <td>1.000000</td>\n",
       "      <td>16.000000</td>\n",
       "      <td>12.000000</td>\n",
       "      <td>6.000000</td>\n",
       "      <td>5.000000</td>\n",
       "      <td>16.000000</td>\n",
       "      <td>17.000000</td>\n",
       "      <td>7.000000</td>\n",
       "      <td>6.000000</td>\n",
       "      <td>4.000000</td>\n",
       "      <td>4.000000</td>\n",
       "      <td>0.000000</td>\n",
       "      <td>0.000000</td>\n",
       "    </tr>\n",
       "    <tr>\n",
       "      <th>max</th>\n",
       "      <td>6.000000</td>\n",
       "      <td>5.000000</td>\n",
       "      <td>4.000000</td>\n",
       "      <td>3.000000</td>\n",
       "      <td>25.000000</td>\n",
       "      <td>24.000000</td>\n",
       "      <td>17.000000</td>\n",
       "      <td>11.000000</td>\n",
       "      <td>28.000000</td>\n",
       "      <td>30.000000</td>\n",
       "      <td>14.000000</td>\n",
       "      <td>11.000000</td>\n",
       "      <td>7.000000</td>\n",
       "      <td>8.000000</td>\n",
       "      <td>2.000000</td>\n",
       "      <td>2.000000</td>\n",
       "    </tr>\n",
       "  </tbody>\n",
       "</table>\n",
       "</div>"
      ],
      "text/plain": [
       "             FTHG        FTAG        HTHG        HTAG          HS          AS  \\\n",
       "count  319.000000  319.000000  319.000000  319.000000  319.000000  319.000000   \n",
       "mean     1.479624    1.018809    0.620690    0.432602   12.717868   10.000000   \n",
       "std      1.210044    1.002963    0.852491    0.640118    4.798653    4.095557   \n",
       "min      0.000000    0.000000    0.000000    0.000000    3.000000    1.000000   \n",
       "25%      1.000000    0.000000    0.000000    0.000000    9.000000    7.000000   \n",
       "50%      1.000000    1.000000    0.000000    0.000000   13.000000   10.000000   \n",
       "75%      2.000000    2.000000    1.000000    1.000000   16.000000   12.000000   \n",
       "max      6.000000    5.000000    4.000000    3.000000   25.000000   24.000000   \n",
       "\n",
       "              HST         AST          HF          AF          HC          AC  \\\n",
       "count  319.000000  319.000000  319.000000  319.000000  319.000000  319.000000   \n",
       "mean     4.438871    3.416928   13.689655   13.915361    5.225705    4.178683   \n",
       "std      2.516960    1.929210    4.162681    3.981370    2.693896    2.303139   \n",
       "min      0.000000    0.000000    4.000000    5.000000    0.000000    0.000000   \n",
       "25%      3.000000    2.000000   11.000000   11.000000    3.000000    3.000000   \n",
       "50%      4.000000    3.000000   13.000000   14.000000    5.000000    4.000000   \n",
       "75%      6.000000    5.000000   16.000000   17.000000    7.000000    6.000000   \n",
       "max     17.000000   11.000000   28.000000   30.000000   14.000000   11.000000   \n",
       "\n",
       "               HY          AY          HR          AR  \n",
       "count  319.000000  319.000000  319.000000  319.000000  \n",
       "mean     2.554859    2.695925    0.081505    0.134796  \n",
       "std      1.538592    1.472499    0.306537    0.351116  \n",
       "min      0.000000    0.000000    0.000000    0.000000  \n",
       "25%      1.000000    2.000000    0.000000    0.000000  \n",
       "50%      2.000000    3.000000    0.000000    0.000000  \n",
       "75%      4.000000    4.000000    0.000000    0.000000  \n",
       "max      7.000000    8.000000    2.000000    2.000000  "
      ]
     },
     "execution_count": 4,
     "metadata": {},
     "output_type": "execute_result"
    }
   ],
   "source": [
    "df1.describe()"
   ]
  },
  {
   "cell_type": "code",
   "execution_count": 5,
   "metadata": {},
   "outputs": [
    {
     "name": "stdout",
     "output_type": "stream",
     "text": [
      "<class 'pandas.core.frame.DataFrame'>\n",
      "RangeIndex: 319 entries, 0 to 318\n",
      "Data columns (total 22 columns):\n",
      " #   Column    Non-Null Count  Dtype \n",
      "---  ------    --------------  ----- \n",
      " 0   Div       319 non-null    object\n",
      " 1   Date      319 non-null    object\n",
      " 2   HomeTeam  319 non-null    object\n",
      " 3   AwayTeam  319 non-null    object\n",
      " 4   FTHG      319 non-null    int64 \n",
      " 5   FTAG      319 non-null    int64 \n",
      " 6   FTR       319 non-null    object\n",
      " 7   HTHG      319 non-null    int64 \n",
      " 8   HTAG      319 non-null    int64 \n",
      " 9   HTR       319 non-null    object\n",
      " 10  HS        319 non-null    int64 \n",
      " 11  AS        319 non-null    int64 \n",
      " 12  HST       319 non-null    int64 \n",
      " 13  AST       319 non-null    int64 \n",
      " 14  HF        319 non-null    int64 \n",
      " 15  AF        319 non-null    int64 \n",
      " 16  HC        319 non-null    int64 \n",
      " 17  AC        319 non-null    int64 \n",
      " 18  HY        319 non-null    int64 \n",
      " 19  AY        319 non-null    int64 \n",
      " 20  HR        319 non-null    int64 \n",
      " 21  AR        319 non-null    int64 \n",
      "dtypes: int64(16), object(6)\n",
      "memory usage: 55.0+ KB\n"
     ]
    }
   ],
   "source": [
    "df1.info()"
   ]
  },
  {
   "cell_type": "markdown",
   "metadata": {},
   "source": [
    "After that explanation, I'm going to calculate the weigth of each field  from offensive and defensive point of view with the help of PCA algorithm. But before of that, I'm going to concatenate offensives and defensive Data frames and  sort the stats by the correlation with goals.\n"
   ]
  },
  {
   "cell_type": "code",
   "execution_count": 6,
   "metadata": {},
   "outputs": [],
   "source": [
    "#Offensive stats\n",
    "r1ho=df1[['HS','HST','AF','AY','AR','HC','FTHG']]\n",
    "r1ao=df1[['AS','AST','HF','HY','HR','AC','FTAG']]\n",
    "r2ho=df2[['HS','HST','AF','AY','AR','HC','FTHG']]\n",
    "r2ao=df2[['AS','AST','HF','HY','HR','AC','FTAG']]"
   ]
  },
  {
   "cell_type": "code",
   "execution_count": 7,
   "metadata": {},
   "outputs": [],
   "source": [
    "r1ho.rename(columns={'HS':'S','HST':'ST','AF':'F','AY':'Y','AR':'R','HC':'C','FTHG':'FTG'}, inplace=True)\n",
    "r2ho.rename(columns={'HS':'S','HST':'ST','AF':'F','AY':'Y','AR':'R','HC':'C','FTHG':'FTG'}, inplace=True)\n",
    "r1ao.rename(columns={'AS':'S','AST':'ST','HF':'F','HY':'Y','HR':'R','AC':'C','FTAG':'FTG'}, inplace=True)\n",
    "r2ao.rename(columns={'AS':'S','AST':'ST','HF':'F','HY':'Y','HR':'R','AC':'C','FTAG':'FTG'}, inplace=True)"
   ]
  },
  {
   "cell_type": "code",
   "execution_count": 8,
   "metadata": {},
   "outputs": [],
   "source": [
    "rto=pd.concat([r1ho,r1ao,r2ho,r2ao])"
   ]
  },
  {
   "cell_type": "code",
   "execution_count": 9,
   "metadata": {},
   "outputs": [
    {
     "name": "stdout",
     "output_type": "stream",
     "text": [
      "<class 'pandas.core.frame.DataFrame'>\n",
      "Int64Index: 1426 entries, 0 to 393\n",
      "Data columns (total 7 columns):\n",
      " #   Column  Non-Null Count  Dtype\n",
      "---  ------  --------------  -----\n",
      " 0   S       1426 non-null   int64\n",
      " 1   ST      1426 non-null   int64\n",
      " 2   F       1426 non-null   int64\n",
      " 3   Y       1426 non-null   int64\n",
      " 4   R       1426 non-null   int64\n",
      " 5   C       1426 non-null   int64\n",
      " 6   FTG     1426 non-null   int64\n",
      "dtypes: int64(7)\n",
      "memory usage: 89.1 KB\n"
     ]
    }
   ],
   "source": [
    "rto.info()"
   ]
  },
  {
   "cell_type": "code",
   "execution_count": 10,
   "metadata": {},
   "outputs": [
    {
     "data": {
      "text/plain": [
       "<matplotlib.axes._subplots.AxesSubplot at 0x254f43ba2e8>"
      ]
     },
     "execution_count": 10,
     "metadata": {},
     "output_type": "execute_result"
    },
    {
     "data": {
      "image/png": "[encoded data removed]",
      "text/plain": [
       "<Figure size 432x288 with 2 Axes>"
      ]
     },
     "metadata": {
      "needs_background": "light"
     },
     "output_type": "display_data"
    }
   ],
   "source": [
    "sns.heatmap(rto.corr(),cmap='coolwarm',annot=True)"
   ]
  },
  {
   "cell_type": "code",
   "execution_count": 11,
   "metadata": {},
   "outputs": [
    {
     "data": {
      "text/plain": [
       "Index(['S', 'ST', 'F', 'Y', 'R', 'C', 'FTG'], dtype='object')"
      ]
     },
     "execution_count": 11,
     "metadata": {},
     "output_type": "execute_result"
    }
   ],
   "source": [
    "rto.columns"
   ]
  },
  {
   "cell_type": "code",
   "execution_count": 12,
   "metadata": {},
   "outputs": [],
   "source": [
    "#Offensive stats that we order by correlation with goals scored\n",
    "rto=rto[['FTG','ST', 'S', 'R', 'Y', 'C', 'F']]"
   ]
  },
  {
   "cell_type": "code",
   "execution_count": 13,
   "metadata": {},
   "outputs": [],
   "source": [
    "scaler = StandardScaler()\n",
    "scaler.fit(rto)\n",
    "scaled_data_off = scaler.transform(rto)\n",
    "pca_off = PCA(n_components=7)"
   ]
  },
  {
   "cell_type": "code",
   "execution_count": 14,
   "metadata": {},
   "outputs": [
    {
     "data": {
      "text/plain": [
       "array([[ 0.16861524, -1.53779777, -0.92610632, ..., -0.0696413 ,\n",
       "        -0.68660864,  0.41776218],\n",
       "       [ 0.14442485,  0.40930491, -0.08253498, ...,  0.84241217,\n",
       "         0.57964896,  0.89974081],\n",
       "       [ 0.60346281,  0.41224823, -0.23123701, ..., -0.89459167,\n",
       "        -1.05203433,  0.28394143],\n",
       "       ...,\n",
       "       [-2.63066145,  4.10124278,  0.65202838, ...,  0.751174  ,\n",
       "        -0.35421477,  0.11362926],\n",
       "       [-0.86674691,  0.67634471,  1.20683828, ..., -0.31695885,\n",
       "        -0.29519173,  0.14793676],\n",
       "       [-0.15321911, -1.3956726 , -1.23776471, ...,  0.95529244,\n",
       "        -1.26050375,  0.15641677]])"
      ]
     },
     "execution_count": 14,
     "metadata": {},
     "output_type": "execute_result"
    }
   ],
   "source": [
    "pca_off.fit_transform(scaled_data_off)"
   ]
  },
  {
   "cell_type": "code",
   "execution_count": 15,
   "metadata": {},
   "outputs": [
    {
     "name": "stdout",
     "output_type": "stream",
     "text": [
      "Offensives weights for each stat: [0.31088906 0.20460445 0.16327661 0.12329211 0.09133258 0.06778108\n",
      " 0.03882411]\n"
     ]
    }
   ],
   "source": [
    "print('Offensives weights for each stat:',pca_off.explained_variance_ratio_)"
   ]
  },
  {
   "cell_type": "code",
   "execution_count": 16,
   "metadata": {},
   "outputs": [],
   "source": [
    "#Defensive stats\n",
    "r1hd=df1[['AS','AST','HF','HY','HR','AC','FTAG']]\n",
    "r2hd=df2[['AS','AST','HF','HY','HR','AC','FTAG']]\n",
    "r1ad=df1[['HS','HST','AF','AY','AR','HC','FTHG']]\n",
    "r2ad=df2[['HS','HST','AF','AY','AR','HC','FTHG']]"
   ]
  },
  {
   "cell_type": "code",
   "execution_count": 17,
   "metadata": {},
   "outputs": [],
   "source": [
    "r1hd.rename(columns={'AS':'S','AST':'ST','HF':'F','HY':'Y','HR':'R','AC':'C','FTAG':'FTG'}, inplace=True)\n",
    "r2hd.rename(columns={'AS':'S','AST':'ST','HF':'F','HY':'Y','HR':'R','AC':'C','FTAG':'FTG'}, inplace=True)\n",
    "r1ad.rename(columns={'HS':'S','HST':'ST','AF':'F','AY':'Y','AR':'R','HC':'C','FTHG':'FTG'}, inplace=True)\n",
    "r2ad.rename(columns={'HS':'S','HST':'ST','AF':'F','AY':'Y','AR':'R','HC':'C','FTHG':'FTG'}, inplace=True)"
   ]
  },
  {
   "cell_type": "code",
   "execution_count": 18,
   "metadata": {},
   "outputs": [],
   "source": [
    "rtd=pd.concat([r1hd,r1ad,r2hd,r2ad])"
   ]
  },
  {
   "cell_type": "code",
   "execution_count": 19,
   "metadata": {},
   "outputs": [
    {
     "name": "stdout",
     "output_type": "stream",
     "text": [
      "<class 'pandas.core.frame.DataFrame'>\n",
      "Int64Index: 1426 entries, 0 to 393\n",
      "Data columns (total 7 columns):\n",
      " #   Column  Non-Null Count  Dtype\n",
      "---  ------  --------------  -----\n",
      " 0   S       1426 non-null   int64\n",
      " 1   ST      1426 non-null   int64\n",
      " 2   F       1426 non-null   int64\n",
      " 3   Y       1426 non-null   int64\n",
      " 4   R       1426 non-null   int64\n",
      " 5   C       1426 non-null   int64\n",
      " 6   FTG     1426 non-null   int64\n",
      "dtypes: int64(7)\n",
      "memory usage: 89.1 KB\n"
     ]
    }
   ],
   "source": [
    "rtd.info()"
   ]
  },
  {
   "cell_type": "code",
   "execution_count": 20,
   "metadata": {},
   "outputs": [
    {
     "data": {
      "text/plain": [
       "<matplotlib.axes._subplots.AxesSubplot at 0x254f436def0>"
      ]
     },
     "execution_count": 20,
     "metadata": {},
     "output_type": "execute_result"
    },
    {
     "data": {
      "image/png": "[encoded data removed]",
      "text/plain": [
       "<Figure size 432x288 with 2 Axes>"
      ]
     },
     "metadata": {
      "needs_background": "light"
     },
     "output_type": "display_data"
    }
   ],
   "source": [
    "sns.heatmap(rtd.corr(),cmap='coolwarm',annot=True)"
   ]
  },
  {
   "cell_type": "code",
   "execution_count": 21,
   "metadata": {},
   "outputs": [],
   "source": [
    "##Defensive stats that we order by correlation with goals scored\n",
    "rtd=rtd[['FTG','ST', 'S', 'R', 'Y', 'C', 'F']]"
   ]
  },
  {
   "cell_type": "code",
   "execution_count": 22,
   "metadata": {},
   "outputs": [],
   "source": [
    "scaler = StandardScaler()\n",
    "scaler.fit(rtd)\n",
    "scaled_data_def = scaler.transform(rtd)\n",
    "pca_def= PCA(n_components=7)"
   ]
  },
  {
   "cell_type": "code",
   "execution_count": 23,
   "metadata": {},
   "outputs": [
    {
     "data": {
      "text/plain": [
       "array([[-0.4901011 , -1.49508542,  1.45444968, ...,  0.51345868,\n",
       "         0.49265725,  0.0610127 ],\n",
       "       [ 3.08268404,  1.57054966, -1.13979869, ..., -0.90189169,\n",
       "        -0.73386179,  0.88983744],\n",
       "       [ 0.02506871,  1.53311161, -0.14815622, ...,  0.0066621 ,\n",
       "        -0.53044558, -0.31508184],\n",
       "       ...,\n",
       "       [-0.05529873,  1.84393991, -0.96341456, ...,  2.06535944,\n",
       "        -0.13679252, -0.11164552],\n",
       "       [-0.3610881 ,  0.15850023, -0.43267779, ...,  1.48758641,\n",
       "        -0.32841432, -0.46950391],\n",
       "       [-0.36816904, -1.1494796 , -0.91641355, ...,  0.31619654,\n",
       "        -0.77233347,  0.02045353]])"
      ]
     },
     "execution_count": 23,
     "metadata": {},
     "output_type": "execute_result"
    }
   ],
   "source": [
    "pca_def.fit_transform(scaled_data_def)"
   ]
  },
  {
   "cell_type": "code",
   "execution_count": 24,
   "metadata": {},
   "outputs": [
    {
     "name": "stdout",
     "output_type": "stream",
     "text": [
      "Defensives weights for each stat: [0.31088906 0.20460445 0.16327661 0.12329211 0.09133258 0.06778108\n",
      " 0.03882411]\n"
     ]
    }
   ],
   "source": [
    "print('Defensives weights for each stat:',pca_def.explained_variance_ratio_)"
   ]
  },
  {
   "cell_type": "markdown",
   "metadata": {},
   "source": [
    "After calculate the needed weights to ponderate the offensive and defensive strategy,we create the Data Frames from first and second league, from the point of view of the local and the away team, Offensively and Defensively:"
   ]
  },
  {
   "cell_type": "code",
   "execution_count": 25,
   "metadata": {},
   "outputs": [],
   "source": [
    "ofsth1=df1[['HS','HST','AF','AY','AR','HC','FTHG']]\n",
    "ofsta1=df1[['AS','AST','HF','HY','HR','AC','FTAG']]\n",
    "defsth1=df1[['AS','AST','HF','HY','HR','AC','FTAG']]\n",
    "defsta1=df1[['HS','HST','AF','AY','AR','HC','FTHG']]\n",
    "ofsth2=df2[['HS','HST','AF','AY','AR','HC','FTHG']]\n",
    "ofsta2=df2[['AS','AST','HF','HY','HR','AC','FTAG']]\n",
    "defsth2=df2[['AS','AST','HF','HY','HR','AC','FTAG']]\n",
    "defsta2=df2[['HS','HST','AF','AY','AR','HC','FTHG']]"
   ]
  },
  {
   "cell_type": "markdown",
   "metadata": {},
   "source": [
    "First Indicator that we calculate is Off_Strategy. With this indicator we want to qualify every offensive stat that we got in reference to the average in the league with tolerance of 1,96 times the standard deviation. That's because, We consider the 95% confidence interval of the mean.\n",
    "\n",
    "<a href=\"https://www.codecogs.com/eqnedit.php?latex=\\mu&space;=&space;\\chi&space;\\pm&space;1,96&space;\\sigma\" target=\"_blank\"><img src=\"https://latex.codecogs.com/gif.latex?\\mu&space;=&space;\\chi&space;\\pm&space;1,96&space;\\sigma\" title=\"\\mu = \\chi \\pm 1,96 \\sigma\" /></a>\n",
    "\n",
    "After that qualify of every stat, we calculate the final qualification with the weights that we calculate before.\n",
    "\n",
    "We are going to consider only the last 3 matches to rate the current moment of strength of the teams.\n",
    "\n",
    "We are going to do the same method with defensives stats to calculate Def_Strategy.\n"
   ]
  },
  {
   "cell_type": "code",
   "execution_count": 26,
   "metadata": {},
   "outputs": [],
   "source": [
    "def Off_Strategy(Team,df,ofsth,ofsta):\n",
    "    df_last3=df[(df['HomeTeam']==Team) | (df['AwayTeam']==Team)].tail(3)\n",
    "    #Goals score\n",
    "    def NG(Team):\n",
    "        HG=df_last3[df_last3['HomeTeam']==Team]['FTHG'].tolist()\n",
    "        i=0\n",
    "        list_HG=[]\n",
    "        while i<len(HG):\n",
    "            inf=ofsth['FTHG'].mean()-1.96*ofsth['FTHG'].std()\n",
    "            if inf<0:\n",
    "                inf=0\n",
    "            r=HG[i]/(((ofsth['FTHG'].mean()+1.96*ofsth['FTHG'].std())-(inf))/10)\n",
    "            if r>10:\n",
    "                r=10\n",
    "            list_HG.append(r)\n",
    "            i=i+1\n",
    "        AG=df_last3[df_last3['AwayTeam']==Team]['FTAG'].tolist()\n",
    "        n=0\n",
    "        list_AG=[]\n",
    "        while n<len(AG):\n",
    "            inf=ofsta['FTAG'].mean()-1.96*ofsta['FTAG'].std()\n",
    "            if inf<0:\n",
    "                inf=0\n",
    "            r=AG[n]/(((ofsta['FTAG'].mean()+1.96*ofsta['FTAG'].std())-(inf))/10)\n",
    "            if r>10:\n",
    "                r=10\n",
    "            list_AG.append(r)\n",
    "            n=n+1\n",
    "        list_G=list_HG+list_AG\n",
    "        NG=sum(list_G)/len(list_G)\n",
    "        return NG\n",
    "\n",
    "    #Total shots score\n",
    "    def NS(Team):\n",
    "        HS=df_last3[df_last3['HomeTeam']==Team]['HS'].tolist()\n",
    "        i=0\n",
    "        list_HS=[]\n",
    "        while i<len(HS):\n",
    "            inf=ofsth['HS'].mean()-1.96*ofsth['HS'].std()\n",
    "            if inf<0:\n",
    "                inf=0\n",
    "            r=HS[i]/(((ofsth['HS'].mean()+1.96*ofsth['HS'].std())-(inf))/10)\n",
    "            if r>10:\n",
    "                r=10\n",
    "            list_HS.append(r)\n",
    "            i=i+1\n",
    "        AS=df_last3[df_last3['AwayTeam']==Team]['AS'].tolist()\n",
    "        n=0\n",
    "        list_AS=[]\n",
    "        while n<len(AS):\n",
    "            inf=ofsta['AS'].mean()-1.96*ofsta['AS'].std()\n",
    "            if inf<0:\n",
    "                inf=0\n",
    "            r=AS[n]/(((ofsta['AS'].mean()+1.96*ofsta['AS'].std())-(inf))/10)\n",
    "            if r>10:\n",
    "                r=10\n",
    "            list_AS.append(r)\n",
    "            n=n+1\n",
    "        list_S=list_HS+list_AS\n",
    "        NS=sum(list_S)/len(list_S)\n",
    "        return NS\n",
    "\n",
    "    #Total shots on target score\n",
    "    def NST(Team):\n",
    "        HST=df_last3[df_last3['HomeTeam']==Team]['HST'].tolist()\n",
    "        i=0\n",
    "        list_HST=[]\n",
    "        while i<len(HST):\n",
    "            inf=ofsth['HST'].mean()-1.96*ofsth['HST'].std()\n",
    "            if inf<0:\n",
    "                inf=0\n",
    "            r=HST[i]/(((ofsth['HST'].mean()+1.96*ofsth['HST'].std())-(inf))/10)\n",
    "            if r>10:\n",
    "                r=10\n",
    "            list_HST.append(r)\n",
    "            i=i+1\n",
    "        AST=df_last3[df_last3['AwayTeam']==Team]['AST'].tolist()\n",
    "        n=0\n",
    "        list_AST=[]\n",
    "        while n<len(AST):\n",
    "            inf=ofsta['AST'].mean()-1.96*ofsta['AST'].std()\n",
    "            if inf<0:\n",
    "                inf=0\n",
    "            r=AST[n]/(((ofsta['AST'].mean()+1.96*ofsta['AST'].std())-(inf))/10)\n",
    "            if r>10:\n",
    "                r=10\n",
    "            list_AST.append(r)\n",
    "            n=n+1\n",
    "        list_ST=list_HST+list_AST\n",
    "        NST=sum(list_ST)/len(list_ST)\n",
    "        return NST\n",
    "\n",
    "    #fouls received score\n",
    "    def NOF (Team):    \n",
    "        AFO=df_last3[df_last3['HomeTeam']==Team]['AF'].tolist()\n",
    "        i=0\n",
    "        list_AFO=[]\n",
    "        while i<len(AFO):\n",
    "            inf=ofsth['AF'].mean()-1.96*ofsth['AF'].std()\n",
    "            if inf<0:\n",
    "                inf=0\n",
    "            r=AFO[i]/(((ofsth['AF'].mean()+1.96*ofsth['AF'].std())-(inf))/10)\n",
    "            if r>10:\n",
    "                r=10\n",
    "            list_AFO.append(r)\n",
    "            i=i+1\n",
    "        HFO=df_last3[df_last3['AwayTeam']==Team]['HF'].tolist()\n",
    "        n=0\n",
    "        list_HFO=[]\n",
    "        while n<len(HFO):\n",
    "            inf=ofsta['HF'].mean()-1.96*ofsta['HF'].std()\n",
    "            if inf<0:\n",
    "                inf=0\n",
    "            r=HFO[n]/(((ofsta['HF'].mean()+1.96*ofsta['HF'].std())-(inf))/10)\n",
    "            if r>10:\n",
    "                r=10\n",
    "            list_HFO.append(r)\n",
    "            n=n+1\n",
    "        list_OF=list_HFO+list_AFO\n",
    "        NOF=sum(list_OF)/len(list_OF)\n",
    "        return NOF\n",
    "\n",
    "    #Yellows received score\n",
    "    def NOY (Team):  \n",
    "        AYO=df_last3[df_last3['HomeTeam']==Team]['AY'].tolist()\n",
    "        i=0\n",
    "        list_AYO=[]\n",
    "        while i<len(AYO):\n",
    "            inf=ofsth['AY'].mean()-1.96*ofsth['AY'].std()\n",
    "            if inf<0:\n",
    "                inf=0\n",
    "            r=AYO[i]/(((ofsth['AY'].mean()+1.96*ofsth['AY'].std())-(inf))/10)\n",
    "            if r>10:\n",
    "                r=10\n",
    "            list_AYO.append(r)\n",
    "            i=i+1\n",
    "        HYO=df_last3[df_last3['AwayTeam']==Team]['HY'].tolist()\n",
    "        n=0\n",
    "        list_HYO=[]\n",
    "        while n<len(HYO):\n",
    "            inf=ofsta['HY'].mean()-1.96*ofsta['HY'].std()\n",
    "            if inf<0:\n",
    "                inf=0\n",
    "            r=HYO[n]/(((ofsta['HY'].mean()+1.96*ofsta['HY'].std())-(inf))/10)\n",
    "            if r>10:\n",
    "                r=10\n",
    "            list_HYO.append(r)\n",
    "            n=n+1\n",
    "        list_OY=list_HYO+list_AYO\n",
    "        NOY=sum(list_OY)/len(list_OY)\n",
    "        return NOY\n",
    "\n",
    "    #Reds received score\n",
    "    def NOR (Team):      \n",
    "        ARO=df_last3[df_last3['HomeTeam']==Team]['AR'].tolist()\n",
    "        i=0\n",
    "        list_ARO=[]\n",
    "        while i<len(ARO):\n",
    "            inf=ofsth['AR'].mean()-1.96*ofsth['AR'].std()\n",
    "            if inf<0:\n",
    "                inf=0\n",
    "            r=ARO[i]/(((ofsth['AR'].mean()+1.96*ofsth['AR'].std())-(inf))/10)\n",
    "            if r>10:\n",
    "                r=10\n",
    "            list_ARO.append(r)\n",
    "            i=i+1\n",
    "        HRO=df_last3[df_last3['AwayTeam']==Team]['HR'].tolist()\n",
    "        n=0\n",
    "        list_HRO=[]\n",
    "        while n<len(HRO):\n",
    "            inf=ofsta['HR'].mean()-1.96*ofsta['HR'].std()\n",
    "            if inf<0:\n",
    "                inf=0\n",
    "            r=HRO[n]/(((ofsta['HR'].mean()+1.96*ofsta['HR'].std())-(inf))/10)\n",
    "            if r>10:\n",
    "                r=10\n",
    "            list_HRO.append(r)\n",
    "            n=n+1\n",
    "        list_OR=list_HRO+list_ARO\n",
    "        NOR=sum(list_OR)/len(list_OR)\n",
    "        return NOR\n",
    "\n",
    "    #Corners score\n",
    "    def NC (Team):    \n",
    "        HC=df_last3[df_last3['HomeTeam']==Team]['HC'].tolist()\n",
    "        i=0\n",
    "        list_HC=[]\n",
    "        while i<len(HC):\n",
    "            inf=ofsth['HC'].mean()-1.96*ofsth['HC'].std()\n",
    "            if inf<0:\n",
    "                inf=0\n",
    "            r=HC[i]/(((ofsth['HC'].mean()+1.96*ofsth['HC'].std())-(inf))/10)\n",
    "            if r>10:\n",
    "                r=10\n",
    "            list_HC.append(r)\n",
    "            i=i+1\n",
    "        AC=df_last3[df_last3['AwayTeam']==Team]['AC'].tolist()\n",
    "        n=0\n",
    "        list_AC=[]\n",
    "        while n<len(AC):\n",
    "            inf=ofsta['AC'].mean()-1.96*ofsta['AC'].std()\n",
    "            if inf<0:\n",
    "                inf=0\n",
    "            r=AC[n]/(((ofsta['AC'].mean()+1.96*ofsta['AC'].std())-(inf))/10)\n",
    "            if r>10:\n",
    "                r=10\n",
    "            list_AC.append(r)\n",
    "            n=n+1\n",
    "        list_C=list_HC+list_AC\n",
    "        NC=sum(list_C)/len(list_C)\n",
    "        return NC\n",
    "    Off_S=(0.31*NG(Team)+0.2*NST(Team)+0.16*NS(Team)+0.13*NOR(Team)+0.09*NOY(Team)+0.07*NC(Team)+0.04*NOF(Team))*(50/10)\n",
    "    return Off_S"
   ]
  },
  {
   "cell_type": "code",
   "execution_count": 27,
   "metadata": {},
   "outputs": [],
   "source": [
    "def Def_Strategy(Team,df,defsth,defsta):\n",
    "    \n",
    "    df_last3=df[(df['HomeTeam']==Team) | (df['AwayTeam']==Team)].tail(3)\n",
    "\n",
    "    #Goals received score\n",
    "    def NGO(Team):\n",
    "        HGO=df_last3[df_last3['HomeTeam']==Team]['FTAG'].tolist()\n",
    "        i=0\n",
    "        list_HGO=[]\n",
    "        while i<len(HGO):\n",
    "            inf=defsth['FTAG'].mean()-1.96*defsth['FTAG'].std()\n",
    "            if inf<0:\n",
    "                inf=0\n",
    "            r=HGO[i]/(((defsth['FTAG'].mean()+1.96*defsth['FTAG'].std())-(inf))/10)\n",
    "            if r>10:\n",
    "                r=10\n",
    "            s=10-r\n",
    "            list_HGO.append(s)\n",
    "            i=i+1\n",
    "        AGO=df_last3[df_last3['AwayTeam']==Team]['FTHG'].tolist()\n",
    "        n=0\n",
    "        list_AGO=[]\n",
    "        while n<len(AGO):\n",
    "            inf=defsta['FTHG'].mean()-1.96*defsta['FTHG'].std()\n",
    "            if inf<0:\n",
    "                inf=0\n",
    "            r=AGO[n]/(((defsta['FTHG'].mean()+1.96*defsta['FTHG'].std())-(inf))/10)\n",
    "            if r>10:\n",
    "                r=10\n",
    "            s=10-r\n",
    "            list_AGO.append(s)\n",
    "            n=n+1\n",
    "        list_GO=list_HGO+list_AGO\n",
    "        NGO=sum(list_GO)/len(list_GO)\n",
    "        return NGO\n",
    "\n",
    "    #Total shots received score\n",
    "    def NSO(Team):          \n",
    "        HSO=df_last3[df_last3['HomeTeam']==Team]['AS'].tolist()\n",
    "        i=0\n",
    "        list_HSO=[]\n",
    "        while i<len(HSO):\n",
    "            inf=defsth['AS'].mean()-1.96*defsth['AS'].std()\n",
    "            if inf<0:\n",
    "                inf=0\n",
    "            r=HSO[i]/(((defsth['AS'].mean()+1.96*defsth['AS'].std())-(inf))/10)\n",
    "            if r>10:\n",
    "                r=10\n",
    "            s=10-r\n",
    "            list_HSO.append(s)\n",
    "            i=i+1\n",
    "        ASO=df_last3[df_last3['AwayTeam']==Team]['HS'].tolist()\n",
    "        n=0\n",
    "        list_ASO=[]\n",
    "        while n<len(ASO):\n",
    "            inf=defsta['HS'].mean()-1.96*defsta['HS'].std()\n",
    "            if inf<0:\n",
    "                inf=0\n",
    "            r=ASO[n]/(((defsta['HS'].mean()+1.96*defsta['HS'].std())-(inf))/10)\n",
    "            if r>10:\n",
    "                r=10\n",
    "            s=10-r\n",
    "            list_ASO.append(s)\n",
    "            n=n+1\n",
    "        list_SO=list_HSO+list_ASO\n",
    "        NSO=sum(list_SO)/len(list_SO)\n",
    "        return NSO\n",
    "\n",
    "    #Total shots on target received score\n",
    "    def NSTO(Team):       \n",
    "        HSTO=df_last3[df_last3['HomeTeam']==Team]['AST'].tolist()\n",
    "        i=0\n",
    "        list_HSTO=[]\n",
    "        while i<len(HSTO):\n",
    "            inf=defsth['AST'].mean()-1.96*defsth['AST'].std()\n",
    "            if inf<0:\n",
    "                inf=0\n",
    "            r=HSTO[i]/(((defsth['AST'].mean()+1.96*defsth['AST'].std())-(inf))/10)\n",
    "            if r>10:\n",
    "                r=10\n",
    "            s=10-r\n",
    "            list_HSTO.append(s)\n",
    "            i=i+1\n",
    "        ASTO=df_last3[df_last3['AwayTeam']==Team]['HST'].tolist()\n",
    "        n=0\n",
    "        list_ASTO=[]\n",
    "        while n<len(ASTO):\n",
    "            inf=defsta['HST'].mean()-1.96*defsta['HST'].std()\n",
    "            if inf<0:\n",
    "                inf=0\n",
    "            r=ASTO[n]/(((defsta['HST'].mean()+1.96*defsta['HST'].std())-(inf))/10)\n",
    "            if r>10:\n",
    "                r=10\n",
    "            s=10-r\n",
    "            list_ASTO.append(s)\n",
    "            n=n+1\n",
    "        list_STO=list_HSTO+list_ASTO\n",
    "        NSTO=sum(list_STO)/len(list_STO)\n",
    "        return NSTO\n",
    "\n",
    "    #Fouls score\n",
    "    def NF(Team): \n",
    "        HF=df_last3[df_last3['HomeTeam']==Team]['HF'].tolist()\n",
    "        i=0\n",
    "        list_HF=[]\n",
    "        while i<len(HF):\n",
    "            inf=defsth['HF'].mean()-1.96*defsth['HF'].std()\n",
    "            if inf<0:\n",
    "                inf=0\n",
    "            r=HF[i]/(((defsth['HF'].mean()+1.96*defsth['HF'].std())-(inf))/10)\n",
    "            if r>10:\n",
    "                r=10\n",
    "            s=10-r\n",
    "            list_HF.append(s)\n",
    "            i=i+1\n",
    "        AF=df_last3[df_last3['AwayTeam']==Team]['AF'].tolist()\n",
    "        n=0\n",
    "        list_AF=[]\n",
    "        while n<len(AF):\n",
    "            inf=defsta['AF'].mean()-1.96*defsta['AF'].std()\n",
    "            if inf<0:\n",
    "                inf=0\n",
    "            r=AF[n]/(((defsta['AF'].mean()+1.96*defsta['AF'].std())-(inf))/10)\n",
    "            if r>10:\n",
    "                r=10\n",
    "            s=10-r\n",
    "            list_AF.append(s)\n",
    "            n=n+1\n",
    "        list_F=list_HF+list_AF\n",
    "        NF=sum(list_F)/len(list_F)\n",
    "        return NF\n",
    "\n",
    "    #Yellows score\n",
    "    def NY(Team): \n",
    "        HY=df_last3[df_last3['HomeTeam']==Team]['HY'].tolist()\n",
    "        i=0\n",
    "        list_HY=[]\n",
    "        while i<len(HY):\n",
    "            inf=defsth['HY'].mean()-1.96*defsth['HY'].std()\n",
    "            if inf<0:\n",
    "                inf=0\n",
    "            r=HY[i]/(((defsth['HY'].mean()+1.96*defsth['HY'].std())-(inf))/10)\n",
    "            if r>10:\n",
    "                r=10\n",
    "            s=10-r\n",
    "            list_HY.append(s)\n",
    "            i=i+1\n",
    "        AY=df_last3[df_last3['AwayTeam']==Team]['AY'].tolist()\n",
    "        n=0\n",
    "        list_AY=[]\n",
    "        while n<len(AY):\n",
    "            inf=defsta['AY'].mean()-1.96*defsta['AY'].std()\n",
    "            if inf<0:\n",
    "                inf=0\n",
    "            r=AY[n]/(((defsta['AY'].mean()+1.96*defsta['AY'].std())-(inf))/10)\n",
    "            if r>10:\n",
    "                r=10\n",
    "            s=10-r\n",
    "            list_AY.append(s)\n",
    "            n=n+1\n",
    "        list_Y=list_HY+list_AY\n",
    "        NY=sum(list_Y)/len(list_Y)\n",
    "        return NY\n",
    "\n",
    "    #Reds score\n",
    "    def NR(Team): \n",
    "        HR=df_last3[df_last3['HomeTeam']==Team]['HR'].tolist()\n",
    "        i=0\n",
    "        list_HR=[]\n",
    "        while i<len(HR):\n",
    "            inf=defsth['HR'].mean()-1.96*defsth['HR'].std()\n",
    "            if inf<0:\n",
    "                inf=0\n",
    "            r=HR[i]/(((defsth['HR'].mean()+1.96*defsth['HR'].std())-(inf))/10)\n",
    "            if r>10:\n",
    "                r=10\n",
    "            s=10-r\n",
    "            list_HR.append(s)\n",
    "            i=i+1\n",
    "        AR=df_last3[df_last3['AwayTeam']==Team]['AR'].tolist()\n",
    "        n=0\n",
    "        list_AR=[]\n",
    "        while n<len(AR):\n",
    "            inf=defsta['AR'].mean()-1.96*defsta['AR'].std()\n",
    "            if inf<0:\n",
    "                inf=0\n",
    "            r=AR[n]/(((defsta['AR'].mean()+1.96*defsta['AR'].std())-(inf))/10)\n",
    "            if r>10:\n",
    "                r=10\n",
    "            s=10-r\n",
    "            list_AR.append(s)\n",
    "            n=n+1\n",
    "        list_R=list_HR+list_AR\n",
    "        NR=sum(list_R)/len(list_R)\n",
    "        return NR\n",
    "    #Corners received score\n",
    "    def NCO(Team): \n",
    "        HCO=df_last3[df_last3['HomeTeam']==Team]['AC'].tolist()\n",
    "        i=0\n",
    "        list_HCO=[]\n",
    "        while i<len(HCO):\n",
    "            inf=defsth['AC'].mean()-1.96*defsth['AC'].std()\n",
    "            if inf<0:\n",
    "                inf=0\n",
    "            r=HCO[i]/(((defsth['AC'].mean()+1.96*defsth['AC'].std())-(inf))/10)\n",
    "            if r>10:\n",
    "                r=10\n",
    "            s=10-r\n",
    "            list_HCO.append(s)\n",
    "            i=i+1\n",
    "        ACO=df_last3[df_last3['AwayTeam']==Team]['HC'].tolist()\n",
    "        n=0\n",
    "        list_ACO=[]\n",
    "        while n<len(ACO):\n",
    "            inf=defsta['HC'].mean()-1.96*defsta['HC'].std()\n",
    "            if inf<0:\n",
    "                inf=0\n",
    "            r=ACO[n]/(((defsta['HC'].mean()+1.96*defsta['HC'].std())-(inf))/10)\n",
    "            if r>10:\n",
    "                r=10\n",
    "            s=10-r\n",
    "            list_ACO.append(s)\n",
    "            n=n+1\n",
    "        list_CO=list_HCO+list_ACO\n",
    "        NCO=sum(list_CO)/len(list_CO)\n",
    "        return NCO\n",
    "    \n",
    "    Def_S=(0.31*NGO(Team)+0.2*NSTO(Team)+0.16*NSO(Team)+0.13*NR(Team)+0.09*NY(Team)+0.07*NCO(Team)+0.04*NF(Team))*(50/10)\n",
    "                \n",
    "    return Def_S"
   ]
  },
  {
   "cell_type": "markdown",
   "metadata": {},
   "source": [
    "Now we are going to calculate Pythagorean wins, an indicator calculated with Total Goals scored in the league(PF) and Total Goals received in the league (PA) with the following function:\n",
    "<a href=\"https://www.codecogs.com/eqnedit.php?latex=Pyth&space;Wins&space;=&space;PF^{2,37}/\\left&space;(&space;PF^{2,37}&plus;PA^{2,37}&space;\\right&space;)\" target=\"_blank\"><img src=\"https://latex.codecogs.com/gif.latex?Pyth&space;Wins&space;=&space;PF^{2,37}/\\left&space;(&space;PF^{2,37}&plus;PA^{2,37}&space;\\right&space;)\" title=\"Pyth Wins = PF^{2,37}/\\left ( PF^{2,37}+PA^{2,37} \\right )\" /></a>\n"
   ]
  },
  {
   "cell_type": "code",
   "execution_count": 28,
   "metadata": {},
   "outputs": [],
   "source": [
    "def Pyth_win(Team,df):\n",
    "    df_liga=df[(df['HomeTeam']==Team) | (df['AwayTeam']==Team)]\n",
    "    PFH=df_liga[df_liga['HomeTeam']==Team]['FTHG'].sum()\n",
    "    PFA=df_liga[df_liga['AwayTeam']==Team]['FTAG'].sum()\n",
    "    PF=PFH+PFA\n",
    "    PAH=df_liga[df_liga['HomeTeam']==Team]['FTAG'].sum()\n",
    "    PAA=df_liga[df_liga['AwayTeam']==Team]['FTHG'].sum()\n",
    "    PA=PAH+PAA\n",
    "    Pyth_win=((PF**2.37)/(PF**2.37+PA**2.37))*100\n",
    "    return Pyth_win"
   ]
  },
  {
   "cell_type": "markdown",
   "metadata": {},
   "source": [
    "Finally the last indicator that we are going to calculate is RPI, that depends of the winrate,the schedule overcome by opponent Team and the schedule overcome by opponents of opponent team. There is a better explanation about this indicator on the page 4 in the project of the University of Manitova, Canada (https://www.sciencedirect.com/science/article/pii/S1877050914011181).\n",
    "\n",
    "<a href=\"https://www.codecogs.com/eqnedit.php?latex=RPI=(0,25\\cdot&space;WP)&plus;(0,5\\cdot&space;OR)&plus;(0,25\\cdot&space;OOR)\" target=\"_blank\"><img src=\"https://latex.codecogs.com/gif.latex?RPI=(0,25\\cdot&space;WP)&plus;(0,5\\cdot&space;OR)&plus;(0,25\\cdot&space;OOR)\" title=\"RPI=(0,25\\cdot WP)+(0,5\\cdot OR)+(0,25\\cdot OOR)\" /></a>"
   ]
  },
  {
   "cell_type": "code",
   "execution_count": 29,
   "metadata": {},
   "outputs": [],
   "source": [
    "def winp(Team,df):\n",
    "    df_liga=df[(df['HomeTeam']==Team) | (df['AwayTeam']==Team)]\n",
    "    WH=df_liga[(df_liga['HomeTeam']==Team) & (df_liga['FTR']=='H')]['FTR'].count()\n",
    "    DH=df_liga[(df_liga['HomeTeam']==Team) & (df_liga['FTR']=='D')]['FTR'].count()\n",
    "    WA=df_liga[(df_liga['AwayTeam']==Team) & (df_liga['FTR']=='A')]['FTR'].count()\n",
    "    DA=df_liga[(df_liga['AwayTeam']==Team) & (df_liga['FTR']=='D')]['FTR'].count()\n",
    "    TM=df_liga['FTR'].count()\n",
    "    WP=(WH*3+WA*3+DH+DA)/(TM*3)\n",
    "    return WP"
   ]
  },
  {
   "cell_type": "code",
   "execution_count": 30,
   "metadata": {},
   "outputs": [],
   "source": [
    "def OR(Team,df):\n",
    "    OTH=df[df['HomeTeam']==Team]['AwayTeam'].tolist()\n",
    "    OTA=df[df['AwayTeam']==Team]['HomeTeam'].tolist()\n",
    "    OT=OTH+OTA\n",
    "    df_ot=pd.DataFrame()\n",
    "    df_ot['OT']=OT\n",
    "    df_ot['OTWP']=df_ot['OT'].apply(lambda x:winp(x,df))\n",
    "    ORT=df_ot['OTWP'].mean()\n",
    "    return ORT"
   ]
  },
  {
   "cell_type": "code",
   "execution_count": 31,
   "metadata": {},
   "outputs": [],
   "source": [
    "def OOR(Team,df):\n",
    "    OTH=df[df['HomeTeam']==Team]['AwayTeam'].tolist()\n",
    "    OTA=df[df['AwayTeam']==Team]['HomeTeam'].tolist()\n",
    "    OT=OTH+OTA\n",
    "    df_ot=pd.DataFrame()\n",
    "    df_ot['OT']=OT\n",
    "    df_ot['OTOR']=df_ot['OT'].apply(lambda x:OR(x,df))\n",
    "    OORT=df_ot['OTOR'].mean()\n",
    "    return OORT"
   ]
  },
  {
   "cell_type": "code",
   "execution_count": 32,
   "metadata": {},
   "outputs": [],
   "source": [
    "def RPI(Team,df):\n",
    "    RPI=(0.25*winp(Team,df)+0.5*OR(Team,df)+0.25*OOR(Team,df))*150\n",
    "    return RPI"
   ]
  },
  {
   "cell_type": "markdown",
   "metadata": {},
   "source": [
    "Every indicator has a weigth on the final calculation based on the Project of University of Manitoba, so Off_Strategy and Def_Strategy have a maximum of 50 points, Pyth_wins has a maximum if 100 points and RPI has a maximum of 150 points."
   ]
  },
  {
   "cell_type": "markdown",
   "metadata": {},
   "source": [
    "After calculate every indicator, we are going to put into practice with 15 matches of one football jorney from both leagues(\"La Quiniela\").\n"
   ]
  },
  {
   "cell_type": "code",
   "execution_count": 33,
   "metadata": {},
   "outputs": [],
   "source": [
    "df_quini1=pd.DataFrame()\n",
    "df_quini2=pd.DataFrame()"
   ]
  },
  {
   "cell_type": "code",
   "execution_count": 34,
   "metadata": {},
   "outputs": [
    {
     "data": {
      "text/plain": [
       "['Alaves',\n",
       " 'Ath Bilbao',\n",
       " 'Ath Madrid',\n",
       " 'Barcelona',\n",
       " 'Betis',\n",
       " 'Celta',\n",
       " 'Eibar',\n",
       " 'Espanol',\n",
       " 'Getafe',\n",
       " 'Granada',\n",
       " 'Leganes',\n",
       " 'Levante',\n",
       " 'Mallorca',\n",
       " 'Osasuna',\n",
       " 'Real Madrid',\n",
       " 'Sevilla',\n",
       " 'Sociedad',\n",
       " 'Valencia',\n",
       " 'Valladolid',\n",
       " 'Villarreal']"
      ]
     },
     "execution_count": 34,
     "metadata": {},
     "output_type": "execute_result"
    }
   ],
   "source": [
    "sorted(df1['HomeTeam'].unique())"
   ]
  },
  {
   "cell_type": "markdown",
   "metadata": {},
   "source": [
    "The following list are the local and away teams from La Liga Santander(First League):"
   ]
  },
  {
   "cell_type": "code",
   "execution_count": 35,
   "metadata": {},
   "outputs": [],
   "source": [
    "list_locales1=['Leganes','Mallorca','Barcelona','Alaves','Valencia','Valladolid','Betis','Sociedad','Eibar','Real Madrid']\n",
    "list_visitantes1=['Sevilla','Celta','Ath Madrid','Granada','Ath Bilbao','Levante','Villarreal','Espanol','Osasuna','Getafe']"
   ]
  },
  {
   "cell_type": "code",
   "execution_count": 36,
   "metadata": {},
   "outputs": [
    {
     "data": {
      "text/plain": [
       "['Albacete',\n",
       " 'Alcorcon',\n",
       " 'Almeria',\n",
       " 'Cadiz',\n",
       " 'Elche',\n",
       " 'Extremadura UD',\n",
       " 'Fuenlabrada',\n",
       " 'Girona',\n",
       " 'Huesca',\n",
       " 'La Coruna',\n",
       " 'Las Palmas',\n",
       " 'Lugo',\n",
       " 'Malaga',\n",
       " 'Mirandes',\n",
       " 'Numancia',\n",
       " 'Oviedo',\n",
       " 'Ponferradina',\n",
       " 'Santander',\n",
       " 'Sp Gijon',\n",
       " 'Tenerife',\n",
       " 'Vallecano',\n",
       " 'Zaragoza']"
      ]
     },
     "execution_count": 36,
     "metadata": {},
     "output_type": "execute_result"
    }
   ],
   "source": [
    "sorted(df2['HomeTeam'].unique())"
   ]
  },
  {
   "cell_type": "markdown",
   "metadata": {},
   "source": [
    "The following list are the local and away teams from La Liga SmartBank(Second League):"
   ]
  },
  {
   "cell_type": "code",
   "execution_count": 37,
   "metadata": {},
   "outputs": [],
   "source": [
    "list_locales2=['Elche','Oviedo','Almeria','Huesca','Vallecano']\n",
    "list_visitantes2=['Cadiz','Mirandes','Sp Gijon','Las Palmas','Malaga']"
   ]
  },
  {
   "cell_type": "code",
   "execution_count": 38,
   "metadata": {},
   "outputs": [],
   "source": [
    "df_quini1['Local']=list_locales1\n",
    "df_quini1['Visitante']=list_visitantes1\n",
    "df_quini2['Local']=list_locales2\n",
    "df_quini2['Visitante']=list_visitantes2"
   ]
  },
  {
   "cell_type": "markdown",
   "metadata": {},
   "source": [
    "Now we are going to calculate every indicator for every football match:"
   ]
  },
  {
   "cell_type": "code",
   "execution_count": 39,
   "metadata": {},
   "outputs": [],
   "source": [
    "df_quini1['RPI']=df_quini1['Local'].apply(lambda x:RPI(x,df1))-df_quini1['Visitante'].apply(lambda x:RPI(x,df1))\n",
    "df_quini2['RPI']=df_quini2['Local'].apply(lambda x:RPI(x,df2))-df_quini2['Visitante'].apply(lambda x:RPI(x,df2))"
   ]
  },
  {
   "cell_type": "code",
   "execution_count": 40,
   "metadata": {},
   "outputs": [],
   "source": [
    "df_quini1['PW']=df_quini1['Local'].apply(lambda x:Pyth_win(x,df1))-df_quini1['Visitante'].apply(lambda x:Pyth_win(x,df1))\n",
    "df_quini2['PW']=df_quini2['Local'].apply(lambda x:Pyth_win(x,df2))-df_quini2['Visitante'].apply(lambda x:Pyth_win(x,df2))"
   ]
  },
  {
   "cell_type": "code",
   "execution_count": 41,
   "metadata": {},
   "outputs": [],
   "source": [
    "df_quini1['OS']=df_quini1['Local'].apply(lambda x:Off_Strategy(x,df1,ofsth1,ofsta1))-df_quini1['Visitante'].apply(lambda x:Off_Strategy(x,df1,ofsth1,ofsta1))\n",
    "df_quini2['OS']=df_quini2['Local'].apply(lambda x:Off_Strategy(x,df2,ofsth2,ofsta2))-df_quini2['Visitante'].apply(lambda x:Off_Strategy(x,df2,ofsth2,ofsta2))"
   ]
  },
  {
   "cell_type": "code",
   "execution_count": 42,
   "metadata": {},
   "outputs": [],
   "source": [
    "df_quini1['DS']=df_quini1['Local'].apply(lambda x:Def_Strategy(x,df1,defsth1,defsta1))-df_quini1['Visitante'].apply(lambda x:Def_Strategy(x,df1,defsth1,defsta1))\n",
    "df_quini2['DS']=df_quini2['Local'].apply(lambda x:Def_Strategy(x,df2,defsth2,defsta2))-df_quini2['Visitante'].apply(lambda x:Def_Strategy(x,df2,defsth2,defsta2))"
   ]
  },
  {
   "cell_type": "code",
   "execution_count": 43,
   "metadata": {},
   "outputs": [],
   "source": [
    "df_quini1['total']=df_quini1['RPI']+df_quini1['PW']+df_quini1['OS']+df_quini1['DS']\n",
    "df_quini2['total']=df_quini2['RPI']+df_quini2['PW']+df_quini2['OS']+df_quini2['DS']"
   ]
  },
  {
   "cell_type": "markdown",
   "metadata": {},
   "source": [
    "We are going to put limits on the final rate to decide the final result:"
   ]
  },
  {
   "cell_type": "code",
   "execution_count": 44,
   "metadata": {},
   "outputs": [],
   "source": [
    "def quini(x):\n",
    "    if x>=-5 and x<=5:\n",
    "        return'X'\n",
    "    elif x>5 and x<=20:\n",
    "        return'1X'\n",
    "    elif x<-5 and x>=-20:\n",
    "        return'X2'\n",
    "    elif x>20:\n",
    "        return'1'\n",
    "    elif x<-20:\n",
    "        return'2'"
   ]
  },
  {
   "cell_type": "code",
   "execution_count": 45,
   "metadata": {},
   "outputs": [],
   "source": [
    "df_quini1['Resultado']=df_quini1['total'].apply(lambda x:quini(x))\n",
    "df_quini2['Resultado']=df_quini2['total'].apply(lambda x:quini(x))"
   ]
  },
  {
   "cell_type": "code",
   "execution_count": 46,
   "metadata": {},
   "outputs": [
    {
     "data": {
      "text/html": [
       "<div>\n",
       "<style scoped>\n",
       "    .dataframe tbody tr th:only-of-type {\n",
       "        vertical-align: middle;\n",
       "    }\n",
       "\n",
       "    .dataframe tbody tr th {\n",
       "        vertical-align: top;\n",
       "    }\n",
       "\n",
       "    .dataframe thead th {\n",
       "        text-align: right;\n",
       "    }\n",
       "</style>\n",
       "<table border=\"1\" class=\"dataframe\">\n",
       "  <thead>\n",
       "    <tr style=\"text-align: right;\">\n",
       "      <th></th>\n",
       "      <th>Local</th>\n",
       "      <th>Visitante</th>\n",
       "      <th>RPI</th>\n",
       "      <th>PW</th>\n",
       "      <th>OS</th>\n",
       "      <th>DS</th>\n",
       "      <th>total</th>\n",
       "      <th>Resultado</th>\n",
       "    </tr>\n",
       "  </thead>\n",
       "  <tbody>\n",
       "    <tr>\n",
       "      <th>0</th>\n",
       "      <td>Leganes</td>\n",
       "      <td>Sevilla</td>\n",
       "      <td>-11.124204</td>\n",
       "      <td>-49.965592</td>\n",
       "      <td>1.011825</td>\n",
       "      <td>5.618743</td>\n",
       "      <td>-54.459228</td>\n",
       "      <td>2</td>\n",
       "    </tr>\n",
       "    <tr>\n",
       "      <th>1</th>\n",
       "      <td>Mallorca</td>\n",
       "      <td>Celta</td>\n",
       "      <td>-3.775972</td>\n",
       "      <td>-20.459666</td>\n",
       "      <td>-8.684994</td>\n",
       "      <td>-7.410071</td>\n",
       "      <td>-40.330703</td>\n",
       "      <td>2</td>\n",
       "    </tr>\n",
       "    <tr>\n",
       "      <th>2</th>\n",
       "      <td>Barcelona</td>\n",
       "      <td>Ath Madrid</td>\n",
       "      <td>4.288029</td>\n",
       "      <td>6.661946</td>\n",
       "      <td>-1.004972</td>\n",
       "      <td>-1.159850</td>\n",
       "      <td>8.785152</td>\n",
       "      <td>1X</td>\n",
       "    </tr>\n",
       "    <tr>\n",
       "      <th>3</th>\n",
       "      <td>Alaves</td>\n",
       "      <td>Granada</td>\n",
       "      <td>-3.535879</td>\n",
       "      <td>-22.331243</td>\n",
       "      <td>-3.934997</td>\n",
       "      <td>-8.726594</td>\n",
       "      <td>-38.528714</td>\n",
       "      <td>2</td>\n",
       "    </tr>\n",
       "    <tr>\n",
       "      <th>4</th>\n",
       "      <td>Valencia</td>\n",
       "      <td>Ath Bilbao</td>\n",
       "      <td>1.612030</td>\n",
       "      <td>-21.241164</td>\n",
       "      <td>-5.703014</td>\n",
       "      <td>-1.970257</td>\n",
       "      <td>-27.302404</td>\n",
       "      <td>2</td>\n",
       "    </tr>\n",
       "    <tr>\n",
       "      <th>5</th>\n",
       "      <td>Valladolid</td>\n",
       "      <td>Levante</td>\n",
       "      <td>-2.654794</td>\n",
       "      <td>-11.070926</td>\n",
       "      <td>-10.131459</td>\n",
       "      <td>3.934645</td>\n",
       "      <td>-19.922534</td>\n",
       "      <td>X2</td>\n",
       "    </tr>\n",
       "    <tr>\n",
       "      <th>6</th>\n",
       "      <td>Betis</td>\n",
       "      <td>Villarreal</td>\n",
       "      <td>-3.475680</td>\n",
       "      <td>-25.083150</td>\n",
       "      <td>5.974959</td>\n",
       "      <td>-2.262601</td>\n",
       "      <td>-24.846472</td>\n",
       "      <td>2</td>\n",
       "    </tr>\n",
       "    <tr>\n",
       "      <th>7</th>\n",
       "      <td>Sociedad</td>\n",
       "      <td>Espanol</td>\n",
       "      <td>7.975926</td>\n",
       "      <td>44.034717</td>\n",
       "      <td>3.758375</td>\n",
       "      <td>2.315175</td>\n",
       "      <td>58.084193</td>\n",
       "      <td>1</td>\n",
       "    </tr>\n",
       "    <tr>\n",
       "      <th>8</th>\n",
       "      <td>Eibar</td>\n",
       "      <td>Osasuna</td>\n",
       "      <td>-1.545451</td>\n",
       "      <td>-7.031191</td>\n",
       "      <td>8.204943</td>\n",
       "      <td>3.340045</td>\n",
       "      <td>2.968346</td>\n",
       "      <td>X</td>\n",
       "    </tr>\n",
       "    <tr>\n",
       "      <th>0</th>\n",
       "      <td>Elche</td>\n",
       "      <td>Cadiz</td>\n",
       "      <td>-3.492354</td>\n",
       "      <td>-5.763470</td>\n",
       "      <td>1.705068</td>\n",
       "      <td>-4.870999</td>\n",
       "      <td>-12.421755</td>\n",
       "      <td>X2</td>\n",
       "    </tr>\n",
       "    <tr>\n",
       "      <th>1</th>\n",
       "      <td>Oviedo</td>\n",
       "      <td>Mirandes</td>\n",
       "      <td>-3.104284</td>\n",
       "      <td>-4.759047</td>\n",
       "      <td>-7.466234</td>\n",
       "      <td>23.952712</td>\n",
       "      <td>8.623147</td>\n",
       "      <td>1X</td>\n",
       "    </tr>\n",
       "    <tr>\n",
       "      <th>2</th>\n",
       "      <td>Almeria</td>\n",
       "      <td>Sp Gijon</td>\n",
       "      <td>2.370394</td>\n",
       "      <td>15.504443</td>\n",
       "      <td>12.065498</td>\n",
       "      <td>-2.753803</td>\n",
       "      <td>27.186532</td>\n",
       "      <td>1</td>\n",
       "    </tr>\n",
       "    <tr>\n",
       "      <th>3</th>\n",
       "      <td>Huesca</td>\n",
       "      <td>Las Palmas</td>\n",
       "      <td>3.020395</td>\n",
       "      <td>15.736621</td>\n",
       "      <td>1.317984</td>\n",
       "      <td>-9.680606</td>\n",
       "      <td>10.394395</td>\n",
       "      <td>1X</td>\n",
       "    </tr>\n",
       "    <tr>\n",
       "      <th>4</th>\n",
       "      <td>Vallecano</td>\n",
       "      <td>Malaga</td>\n",
       "      <td>2.137816</td>\n",
       "      <td>11.394243</td>\n",
       "      <td>0.596908</td>\n",
       "      <td>-2.788210</td>\n",
       "      <td>11.340757</td>\n",
       "      <td>1X</td>\n",
       "    </tr>\n",
       "    <tr>\n",
       "      <th>9</th>\n",
       "      <td>Real Madrid</td>\n",
       "      <td>Getafe</td>\n",
       "      <td>8.291740</td>\n",
       "      <td>24.148080</td>\n",
       "      <td>6.826253</td>\n",
       "      <td>0.044466</td>\n",
       "      <td>39.310540</td>\n",
       "      <td>1</td>\n",
       "    </tr>\n",
       "  </tbody>\n",
       "</table>\n",
       "</div>"
      ],
      "text/plain": [
       "         Local   Visitante        RPI         PW         OS         DS  \\\n",
       "0      Leganes     Sevilla -11.124204 -49.965592   1.011825   5.618743   \n",
       "1     Mallorca       Celta  -3.775972 -20.459666  -8.684994  -7.410071   \n",
       "2    Barcelona  Ath Madrid   4.288029   6.661946  -1.004972  -1.159850   \n",
       "3       Alaves     Granada  -3.535879 -22.331243  -3.934997  -8.726594   \n",
       "4     Valencia  Ath Bilbao   1.612030 -21.241164  -5.703014  -1.970257   \n",
       "5   Valladolid     Levante  -2.654794 -11.070926 -10.131459   3.934645   \n",
       "6        Betis  Villarreal  -3.475680 -25.083150   5.974959  -2.262601   \n",
       "7     Sociedad     Espanol   7.975926  44.034717   3.758375   2.315175   \n",
       "8        Eibar     Osasuna  -1.545451  -7.031191   8.204943   3.340045   \n",
       "0        Elche       Cadiz  -3.492354  -5.763470   1.705068  -4.870999   \n",
       "1       Oviedo    Mirandes  -3.104284  -4.759047  -7.466234  23.952712   \n",
       "2      Almeria    Sp Gijon   2.370394  15.504443  12.065498  -2.753803   \n",
       "3       Huesca  Las Palmas   3.020395  15.736621   1.317984  -9.680606   \n",
       "4    Vallecano      Malaga   2.137816  11.394243   0.596908  -2.788210   \n",
       "9  Real Madrid      Getafe   8.291740  24.148080   6.826253   0.044466   \n",
       "\n",
       "       total Resultado  \n",
       "0 -54.459228         2  \n",
       "1 -40.330703         2  \n",
       "2   8.785152        1X  \n",
       "3 -38.528714         2  \n",
       "4 -27.302404         2  \n",
       "5 -19.922534        X2  \n",
       "6 -24.846472         2  \n",
       "7  58.084193         1  \n",
       "8   2.968346         X  \n",
       "0 -12.421755        X2  \n",
       "1   8.623147        1X  \n",
       "2  27.186532         1  \n",
       "3  10.394395        1X  \n",
       "4  11.340757        1X  \n",
       "9  39.310540         1  "
      ]
     },
     "execution_count": 46,
     "metadata": {},
     "output_type": "execute_result"
    }
   ],
   "source": [
    "quini_final=pd.concat([df_quini1.iloc[0:-1],df_quini2,df_quini1.iloc[-1:]])\n",
    "quini_final"
   ]
  },
  {
   "cell_type": "markdown",
   "metadata": {},
   "source": [
    "This is our final result that we got, so after the football jorney 33 we got 13 good predictions, and 2 faults.\n",
    "\n",
    "As a conclusion, I think that is a good result, but thinking about the 2 faults we could improve.It Could be a good idea try to calculate an indicator of the match that could be a surprise, or trying to get more stats to qualify better the teams.\n",
    "\n",
    "For example, in the match Eibar-Osasuna that we fault, the indicators Off_strategy and Def_strategy(last 3 matches) are in favor of Osasuna,the team that won the match, but the indicators RPI and Pythagorean Wins (All the league) are in favor of Eibar, so finally we predict a draw and we failed our prediction. Afterall we can consider that could be a good example of surprise match and It could be one improvement for next projects.\n",
    "\n",
    "As a personal conclusion, I have learnt a lot about functions and data frames, Data Mining is amazing, so let's keep learning!"
   ]
  },
  {
   "cell_type": "code",
   "execution_count": null,
   "metadata": {},
   "outputs": [],
   "source": []
  }
 ],
 "metadata": {
  "kernelspec": {
   "display_name": "Python 3",
   "language": "python",
   "name": "python3"
  },
  "language_info": {
   "codemirror_mode": {
    "name": "ipython",
    "version": 3
   },
   "file_extension": ".py",
   "mimetype": "text/x-python",
   "name": "python",
   "nbconvert_exporter": "python",
   "pygments_lexer": "ipython3",
   "version": "3.7.1"
  }
 },
 "nbformat": 4,
 "nbformat_minor": 4
}
